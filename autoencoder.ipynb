{
 "cells": [
  {
   "cell_type": "code",
   "execution_count": 14,
   "metadata": {},
   "outputs": [
    {
     "data": {
      "text/plain": [
       "'r1b5/1p1k2pr/1Pn3Np/p3p3/P2nP1pP/1RqP4/3p1KB1/2R5'"
      ]
     },
     "execution_count": 14,
     "metadata": {},
     "output_type": "execute_result"
    }
   ],
   "source": [
    "# generate fen strings to be inputted to lichess and screenshots taken\n",
    "\n",
    "import chess\n",
    "import chess.engine\n",
    "import random\n",
    "import os\n",
    "\n",
    "def random_fen():\n",
    "    board = chess.Board()\n",
    "    # Randomize the board by making a series of random legal moves\n",
    "    for _ in range(random.randint(0, 100)):\n",
    "        if board.is_game_over():\n",
    "            break\n",
    "        legal_moves = list(board.legal_moves)\n",
    "        move = random.choice(legal_moves)\n",
    "        board.push(move)\n",
    "    return board.fen()\n",
    "\n",
    "def generate_random_fens(n):\n",
    "    return [random_fen() for _ in range(n)]\n",
    "\n",
    "def save_fens(path, fens):\n",
    "    with open(path, \"w\") as file:\n",
    "        for fen in fens:\n",
    "            file.write(fen + \"\\n\")\n",
    "\n",
    "size = 1000\n",
    "\n",
    "fens = generate_random_fens(size)\n",
    "fens = [f.split(\" \")[0] for f in fens]\n",
    "fens[0]"
   ]
  },
  {
   "cell_type": "code",
   "execution_count": 15,
   "metadata": {},
   "outputs": [
    {
     "data": {
      "text/plain": [
       "(1000, 64)"
      ]
     },
     "execution_count": 15,
     "metadata": {},
     "output_type": "execute_result"
    }
   ],
   "source": [
    "import numpy as np\n",
    "\n",
    "pieces = {\n",
    "    'p': 1,\n",
    "    'r': 2,\n",
    "    'n': 3,\n",
    "    'b': 4,\n",
    "    'q': 5,\n",
    "    'k': 6,\n",
    "    'P': 7,\n",
    "    'R': 8,\n",
    "    'N': 9,\n",
    "    'B': 10,\n",
    "    'Q': 11,\n",
    "    'K': 12,\n",
    "}\n",
    "\n",
    "def encode_fen(fen):\n",
    "  encoded = []\n",
    "  for char in fen:\n",
    "    if char in pieces:\n",
    "      encoded.append(pieces[char])\n",
    "    elif char.isdigit():\n",
    "      encoded.extend([0] * int(char))\n",
    "    elif char == '/':\n",
    "      continue\n",
    "    else:\n",
    "      encoded.append(0)\n",
    "  return np.array(encoded, dtype = int)\n",
    "\n",
    "encoded_fens = np.array([encode_fen(fen) for fen in fens], dtype = int)\n",
    "encoded_fens.shape"
   ]
  },
  {
   "cell_type": "code",
   "execution_count": 1,
   "metadata": {},
   "outputs": [
    {
     "ename": "ModuleNotFoundError",
     "evalue": "No module named 'torch'",
     "output_type": "error",
     "traceback": [
      "\u001b[1;31m---------------------------------------------------------------------------\u001b[0m",
      "\u001b[1;31mModuleNotFoundError\u001b[0m                       Traceback (most recent call last)",
      "Cell \u001b[1;32mIn[1], line 1\u001b[0m\n\u001b[1;32m----> 1\u001b[0m \u001b[38;5;28;01mfrom\u001b[39;00m \u001b[38;5;21;01mtorch\u001b[39;00m \u001b[38;5;28;01mimport\u001b[39;00m nn\n\u001b[0;32m      3\u001b[0m \u001b[38;5;28;01mfrom\u001b[39;00m \u001b[38;5;21;01msklearn\u001b[39;00m\u001b[38;5;21;01m.\u001b[39;00m\u001b[38;5;21;01mmodel_selection\u001b[39;00m \u001b[38;5;28;01mimport\u001b[39;00m train_test_split\n\u001b[0;32m      5\u001b[0m X \u001b[38;5;241m=\u001b[39m encoded_fens\n",
      "\u001b[1;31mModuleNotFoundError\u001b[0m: No module named 'torch'"
     ]
    }
   ],
   "source": [
    "from torch import nn\n",
    "\n",
    "from sklearn.model_selection import train_test_split\n",
    "\n",
    "X = encoded_fens\n",
    "\n",
    "X_train, X_test, y_train, y_test = train_test_split(X, X, test_size=0.1, shuffle=True)\n",
    "\n",
    "print(f\"X_train shape {X_train.shape}\")\n",
    "print(f\"y_train shape {y_train.shape}\")\n",
    "\n",
    "print(f\"X_test shape {X_test.shape}\")\n",
    "print(f\"y_test shape {y_test.shape}\")"
   ]
  }
 ],
 "metadata": {
  "kernelspec": {
   "display_name": "venv",
   "language": "python",
   "name": "python3"
  },
  "language_info": {
   "codemirror_mode": {
    "name": "ipython",
    "version": 3
   },
   "file_extension": ".py",
   "mimetype": "text/x-python",
   "name": "python",
   "nbconvert_exporter": "python",
   "pygments_lexer": "ipython3",
   "version": "3.11.9"
  }
 },
 "nbformat": 4,
 "nbformat_minor": 2
}
